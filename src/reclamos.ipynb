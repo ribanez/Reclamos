{
  "nbformat": 4,
  "nbformat_minor": 0,
  "metadata": {
    "colab": {
      "name": "reclamos.ipynb",
      "version": "0.3.2",
      "views": {},
      "default_view": {},
      "provenance": [],
      "collapsed_sections": []
    },
    "kernelspec": {
      "name": "python3",
      "display_name": "Python 3"
    }
  },
  "cells": [
    {
      "metadata": {
        "id": "ns12Fp8p-I7R",
        "colab_type": "text"
      },
      "source": [
        "# RECLAMOS\n",
        "\n",
        "Extraer metadatos de reclamos a partir de URLs\n",
        "\n",
        "\n",
        "---\n",
        "\n"
      ],
      "cell_type": "markdown"
    },
    {
      "metadata": {
        "id": "sEotRdsKhV4j",
        "colab_type": "code",
        "colab": {
          "autoexec": {
            "startup": false,
            "wait_interval": 0
          }
        }
      },
      "source": [
        "#apt-get install -y python3-bs4\n",
        "from bs4 import BeautifulSoup\n",
        "import urllib.request\n",
        "\n",
        "\n",
        "html = urllib.request.urlopen(url).read()\n",
        "\n",
        "soup = BeautifulSoup(html, 'html.parser')\n",
        "\n",
        "#print(soup.prettify())"
      ],
      "cell_type": "code",
      "execution_count": 0,
      "outputs": []
    },
    {
      "metadata": {
        "id": "l0KP0AcqjOuS",
        "colab_type": "text"
      },
      "source": [
        "url = 'http://www.reclamos.cl/a3directo/reclamo/2017/dec/a3d_antena_3_directo_chile_cobran_mas_de_que_anuncian'\n",
        "filename = wget.download(url)\n"
      ],
      "cell_type": "markdown"
    },
    {
      "metadata": {
        "id": "KnMrLuT8qoGN",
        "colab_type": "text"
      },
      "source": [
        "# Título"
      ],
      "cell_type": "markdown"
    },
    {
      "metadata": {
        "id": "Z2eMdV7ihn2P",
        "colab_type": "code",
        "colab": {
          "autoexec": {
            "startup": false,
            "wait_interval": 0
          },
          "output_extras": [
            {
              "item_id": 1
            }
          ],
          "base_uri": "https://localhost:8080/",
          "height": 34
        },
        "outputId": "1484c3a6-f9c1-4bb9-8e4e-2400c792ff90",
        "executionInfo": {
          "status": "ok",
          "timestamp": 1515032535857,
          "user_tz": 180,
          "elapsed": 777,
          "user": {
            "displayName": "Diego Valenzuela",
            "photoUrl": "//lh6.googleusercontent.com/-yC1S3sINJo8/AAAAAAAAAAI/AAAAAAAAAWQ/KjmnqiX4R_0/s50-c-k-no/photo.jpg",
            "userId": "105237571791367820180"
          }
        }
      },
      "source": [
        "soup.title.string"
      ],
      "cell_type": "code",
      "execution_count": 230,
      "outputs": [
        {
          "output_type": "execute_result",
          "data": {
            "text/plain": [
              "'A3D Antena 3 Directo Chile  - Cobran Mas De Que Anuncian - Ninguno | Reclamos.cl'"
            ]
          },
          "metadata": {
            "tags": []
          },
          "execution_count": 230
        }
      ]
    },
    {
      "metadata": {
        "id": "dcaDPRnxqtwI",
        "colab_type": "text"
      },
      "source": [
        "# Reclamo"
      ],
      "cell_type": "markdown"
    },
    {
      "metadata": {
        "id": "20al2TrPm1-2",
        "colab_type": "code",
        "colab": {
          "autoexec": {
            "startup": false,
            "wait_interval": 0
          },
          "output_extras": [
            {
              "item_id": 1
            }
          ],
          "base_uri": "https://localhost:8080/",
          "height": 34
        },
        "outputId": "5371578f-eb8c-47ba-9811-4def2f10ee42",
        "executionInfo": {
          "status": "ok",
          "timestamp": 1515032537040,
          "user_tz": 180,
          "elapsed": 517,
          "user": {
            "displayName": "Diego Valenzuela",
            "photoUrl": "//lh6.googleusercontent.com/-yC1S3sINJo8/AAAAAAAAAAI/AAAAAAAAAWQ/KjmnqiX4R_0/s50-c-k-no/photo.jpg",
            "userId": "105237571791367820180"
          }
        }
      },
      "source": [
        "soup.find('meta', {'name':'description'})['content']"
      ],
      "cell_type": "code",
      "execution_count": 231,
      "outputs": [
        {
          "output_type": "execute_result",
          "data": {
            "text/plain": [
              "'Compre una PEIN RUNNER PRO. COSTABA 28400... Se pagaron de 29900... Un fraude... Llame .debo esperar la próxima semana ... Esta ahora publicada en internet... A'"
            ]
          },
          "metadata": {
            "tags": []
          },
          "execution_count": 231
        }
      ]
    },
    {
      "metadata": {
        "id": "yDgcKciDr16-",
        "colab_type": "text"
      },
      "source": [
        "# Keywords"
      ],
      "cell_type": "markdown"
    },
    {
      "metadata": {
        "id": "FcH172FXrxT_",
        "colab_type": "code",
        "colab": {
          "autoexec": {
            "startup": false,
            "wait_interval": 0
          },
          "output_extras": [
            {
              "item_id": 1
            }
          ],
          "base_uri": "https://localhost:8080/",
          "height": 34
        },
        "outputId": "1bd536d3-115a-4cbd-d1f3-1fdf2e3da93d",
        "executionInfo": {
          "status": "ok",
          "timestamp": 1515032538713,
          "user_tz": 180,
          "elapsed": 1161,
          "user": {
            "displayName": "Diego Valenzuela",
            "photoUrl": "//lh6.googleusercontent.com/-yC1S3sINJo8/AAAAAAAAAAI/AAAAAAAAAWQ/KjmnqiX4R_0/s50-c-k-no/photo.jpg",
            "userId": "105237571791367820180"
          }
        }
      },
      "source": [
        "soup.find('meta', {'name':'keywords'})['content']"
      ],
      "cell_type": "code",
      "execution_count": 232,
      "outputs": [
        {
          "output_type": "execute_result",
          "data": {
            "text/plain": [
              "'A3Directo,reclamos,encuentro,empresas,organizaciones,personas,sernac,quejas,jurídico,leyes'"
            ]
          },
          "metadata": {
            "tags": []
          },
          "execution_count": 232
        }
      ]
    },
    {
      "metadata": {
        "id": "AV1mzeBQtIe3",
        "colab_type": "text"
      },
      "source": [
        "# HTML"
      ],
      "cell_type": "markdown"
    },
    {
      "metadata": {
        "id": "xNVUiB_wmi6w",
        "colab_type": "code",
        "colab": {
          "autoexec": {
            "startup": false,
            "wait_interval": 0
          },
          "output_extras": [
            {
              "item_id": 1
            }
          ],
          "base_uri": "https://localhost:8080/",
          "height": 14156
        },
        "outputId": "2889feb1-fafa-4d7a-8437-a1604ff28ec8",
        "executionInfo": {
          "status": "ok",
          "timestamp": 1515032539950,
          "user_tz": 180,
          "elapsed": 813,
          "user": {
            "displayName": "Diego Valenzuela",
            "photoUrl": "//lh6.googleusercontent.com/-yC1S3sINJo8/AAAAAAAAAAI/AAAAAAAAAWQ/KjmnqiX4R_0/s50-c-k-no/photo.jpg",
            "userId": "105237571791367820180"
          }
        }
      },
      "source": [
        "print(soup.prettify())"
      ],
      "cell_type": "code",
      "execution_count": 233,
      "outputs": [
        {
          "output_type": "stream",
          "text": [
            "<!DOCTYPE html>\n",
            "<html lang=\"es\">\n",
            " <head>\n",
            "  <meta charset=\"utf-8\"/>\n",
            "  <meta content=\"IE=edge\" http-equiv=\"X-UA-Compatible\"/>\n",
            "  <meta content=\"width=device-width, initial-scale=1\" name=\"viewport\"/>\n",
            "  <meta content=\"True\" name=\"HandheldFriendly\"/>\n",
            "  <meta content=\"2Ph4aXakqusr/vdfqk8HzqDmZjBlmP+OCaB5p+vP9JM=\" name=\"verify-v1\">\n",
            "   <meta content=\"220640118006433\" property=\"fb:app_id\">\n",
            "    <title>\n",
            "     A3D Antena 3 Directo Chile  - Cobran Mas De Que Anuncian - Ninguno | Reclamos.cl\n",
            "    </title>\n",
            "    <script src=\"https://code.jquery.com/jquery-1.11.2.js\">\n",
            "    </script>\n",
            "    <script src=\"https://maxcdn.bootstrapcdn.com/bootstrap/3.3.4/js/bootstrap.min.js\">\n",
            "    </script>\n",
            "    <script>\n",
            "     var jq = jQuery.noConflict();\n",
            "    </script>\n",
            "    <meta content=\"text/html; charset=utf-8\" http-equiv=\"Content-Type\">\n",
            "     <meta content=\"Compre una PEIN RUNNER PRO. COSTABA 28400... Se pagaron de 29900... Un fraude... Llame .debo esperar la próxima semana ... Esta ahora publicada en internet... A\" name=\"description\">\n",
            "      <meta content=\"A3Directo,reclamos,encuentro,empresas,organizaciones,personas,sernac,quejas,jurídico,leyes\" name=\"keywords\"/>\n",
            "      <style media=\"all\" type=\"text/css\">\n",
            "       @import \"/modules/simplenews/simplenews.css\";\n",
            "      </style>\n",
            "      <style media=\"all\" type=\"text/css\">\n",
            "       @import \"/files/css/cfef7d29a43d7f953b8d459fb76efde3.css\";\n",
            "      </style>\n",
            "      <script src=\"/misc/jquery.js\" type=\"text/javascript\">\n",
            "      </script>\n",
            "      <script src=\"/misc/drupal.js\" type=\"text/javascript\">\n",
            "      </script>\n",
            "      <script src=\"/modules/jquery_update/compat-1.0.js\" type=\"text/javascript\">\n",
            "      </script>\n",
            "      <script src=\"/modules/1 revaluacion/jquery.revaluacion.js\" type=\"text/javascript\">\n",
            "      </script>\n",
            "      <script src=\"/modules/jquery_update/collapse-fix.js\" type=\"text/javascript\">\n",
            "      </script>\n",
            "      <script src=\"/themes/r4/reclamos.js\" type=\"text/javascript\">\n",
            "      </script>\n",
            "      <script type=\"text/javascript\">\n",
            "       $(document).ready(function(){\n",
            "      showVoteCount('https://www.reclamos.cl',468473,'bd821be156');\n",
            "    });\n",
            "      </script>\n",
            "      <script type=\"text/javascript\">\n",
            "       function rstatistics_call() {\n",
            "    $.post('https://www.reclamos.cl/rstatistics/op.php',{ nid: 468473, code: '1403e8dab6ea59' },\n",
            "        function(data){\n",
            "        var resultado = JSON.parse(data);\n",
            "          $('#node-visitas-counter').html(resultado['visitas']);\n",
            "          if(resultado['chat_r'] === 1) {\n",
            "            $.getScript('https://vendedorweb.cl/ssl/reclamos/reclamos.js');          \n",
            "          }\n",
            "        });            \n",
            "  }\n",
            "  $(document).ready(function() {    \n",
            "    rstatistics_call();\n",
            "  });\n",
            "      </script>\n",
            "      <link href=\"//maxcdn.bootstrapcdn.com/bootstrap/3.3.1/css/bootstrap.min.css\" media=\"screen\" rel=\"stylesheet\" type=\"text/css\"/>\n",
            "      <style media=\"all\" type=\"text/css\">\n",
            "       @import \"/themes/r4/style.css?3\";\n",
            "      </style>\n",
            "      <link href=\"/themes/r4/favicon-01.png\" rel=\"shortcut icon\"/>\n",
            "      <script type=\"text/javascript\">\n",
            "       var switchTo5x=true;\n",
            "      </script>\n",
            "      <!-- Facebook Pixel Code -->\n",
            "      <script>\n",
            "       !function(f,b,e,v,n,t,s){if(f.fbq)return;n=f.fbq=function(){n.callMethod?\n",
            "    n.callMethod.apply(n,arguments):n.queue.push(arguments)};if(!f._fbq)f._fbq=n;\n",
            "    n.push=n;n.loaded=!0;n.version='2.0';n.queue=[];t=b.createElement(e);t.async=!0;\n",
            "    t.src=v;s=b.getElementsByTagName(e)[0];s.parentNode.insertBefore(t,s)}(window,\n",
            "    document,'script','https://connect.facebook.net/en_US/fbevents.js');\n",
            "    fbq('init', '871637279617203'); // Insert your pixel ID here.\n",
            "    fbq('track', 'PageView');\n",
            "      </script>\n",
            "      <noscript>\n",
            "       <img height=\"1\" src=\"https://www.facebook.com/tr?id=871637279617203&amp;ev=PageView&amp;noscript=1\" style=\"display:none\" width=\"1\"/>\n",
            "      </noscript>\n",
            "      <!-- DO NOT MODIFY -->\n",
            "      <!-- End Facebook Pixel Code -->\n",
            "     </meta>\n",
            "    </meta>\n",
            "   </meta>\n",
            "  </meta>\n",
            " </head>\n",
            " <body>\n",
            "  <div id=\"fb-root\">\n",
            "  </div>\n",
            "  <script>\n",
            "   (function(d, s, id) {\n",
            "    var js, fjs = d.getElementsByTagName(s)[0];\n",
            "    if (d.getElementById(id)) return;\n",
            "    js = d.createElement(s); js.id = id;\n",
            "    js.src = \"//connect.facebook.net/es_LA/all.js#xfbml=1&appId=220640118006433\";\n",
            "    fjs.parentNode.insertBefore(js, fjs);\n",
            "  }(document, 'script', 'facebook-jssdk'));\n",
            "  </script>\n",
            "  <div id=\"header\">\n",
            "   <div id=\"header-container\">\n",
            "    <div class=\"row\">\n",
            "     <div class=\"col-xs-5 col-md-4\">\n",
            "      <div id=\"logo-reclamos\">\n",
            "       <a href=\"/\">\n",
            "        <img alt=\"Reclamos.cl\" src=\"https://www.reclamos.cl/themes/r4/logo-reclamos-01.svg\" title=\"Reclamos.cl\"/>\n",
            "       </a>\n",
            "      </div>\n",
            "     </div>\n",
            "     <div class=\"col-xs-1 col-md-4\">\n",
            "     </div>\n",
            "     <div class=\"col-xs-6 col-md-4\">\n",
            "      <div id=\"buscador\">\n",
            "       <form accept-charset=\"UTF-8\" action=\"https://www.google.com/cse\" class=\"form-inline\" method=\"get\">\n",
            "        <div class=\"form-group\">\n",
            "         <input class=\"form-control\" id=\"buscador-texto\" maxlength=\"128\" name=\"q\" placeholder=\"Buscar por texto\" size=\"30\" type=\"text\" value=\"\"/>\n",
            "        </div>\n",
            "        <div class=\"form-group\">\n",
            "         <input class=\"form-control\" id=\"edit-sa\" name=\"op\" type=\"submit\" value=\"Buscar\"/>\n",
            "        </div>\n",
            "        <input id=\"edit-google-cse-searchbox-form-form-token\" name=\"form_token\" type=\"hidden\" value=\"4cda7640f547b7a39dda1da2a678757a\"/>\n",
            "        <input id=\"edit-google-cse-searchbox-form\" name=\"form_id\" type=\"hidden\" value=\"google_cse_searchbox_form\"/>\n",
            "        <input id=\"edit-cx\" name=\"cx\" type=\"hidden\" value=\"000309174809139069215:4ins3loxdwk\"/>\n",
            "        <input id=\"edit-cof\" name=\"cof\" type=\"hidden\" value=\"FORID:0\"/>\n",
            "       </form>\n",
            "      </div>\n",
            "     </div>\n",
            "    </div>\n",
            "    <nav class=\"navbar navbar-default\" id=\"menu-main\">\n",
            "     <!-- Brand and toggle get grouped for better mobile display -->\n",
            "     <div class=\"navbar-header\">\n",
            "      <button class=\"navbar-toggle collapsed\" data-target=\"#bs-example-navbar-collapse-1\" data-toggle=\"collapse\" type=\"button\">\n",
            "       <span class=\"sr-only\">\n",
            "        Toggle navigation\n",
            "       </span>\n",
            "       <span class=\"icon-bar\">\n",
            "       </span>\n",
            "       <span class=\"icon-bar\">\n",
            "       </span>\n",
            "       <span class=\"icon-bar\">\n",
            "       </span>\n",
            "      </button>\n",
            "      <a class=\"navbar-brand\" href=\"/\">\n",
            "       <img alt=\"Reclamos.cl\" src=\"https://www.reclamos.cl/themes/r4/logo-reclamos-01.svg\" title=\"Reclamos.cl\"/>\n",
            "      </a>\n",
            "     </div>\n",
            "     <!-- Collect the nav links, forms, and other content for toggling -->\n",
            "     <div class=\"collapse navbar-collapse\" id=\"bs-example-navbar-collapse-1\">\n",
            "      <ul class=\"nav navbar-nav\">\n",
            "       <li id=\"publicar-menu-movil\">\n",
            "        <a class=\"btn btn-success\" href=\"https://www.reclamos.cl/node/add/reclamo\" id=\"menu-superior-publicar\">\n",
            "         <span aria-hidden=\"true\" class=\"glyphicon glyphicon-pencil\">\n",
            "         </span>\n",
            "         Publicar reclamo\n",
            "        </a>\n",
            "       </li>\n",
            "      </ul>\n",
            "     </div>\n",
            "    </nav>\n",
            "   </div>\n",
            "  </div>\n",
            " </body>\n",
            "</html>\n",
            "<li id=\"buscador-movil\">\n",
            " <form accept-charset=\"UTF-8\" action=\"https://www.google.com/cse\" class=\"form-inline\" method=\"get\">\n",
            "  <div class=\"row\">\n",
            "   <div class=\"col-xs-9\">\n",
            "    <input class=\"form-control\" id=\"buscador-texto\" maxlength=\"128\" name=\"q\" placeholder=\"Buscar por texto\" size=\"30\" type=\"text\" value=\"\"/>\n",
            "   </div>\n",
            "   <div class=\"col-xs-3\">\n",
            "    <input class=\"form-control btn btn-success\" id=\"edit-sa\" name=\"op\" type=\"submit\" value=\"Buscar\"/>\n",
            "   </div>\n",
            "  </div>\n",
            "  <input id=\"edit-google-cse-searchbox-form-form-token\" name=\"form_token\" type=\"hidden\" value=\"4cda7640f547b7a39dda1da2a678757a\"/>\n",
            "  <input id=\"edit-google-cse-searchbox-form\" name=\"form_id\" type=\"hidden\" value=\"google_cse_searchbox_form\"/>\n",
            "  <input id=\"edit-cx\" name=\"cx\" type=\"hidden\" value=\"000309174809139069215:4ins3loxdwk\"/>\n",
            "  <input id=\"edit-cof\" name=\"cof\" type=\"hidden\" value=\"FORID:0\"/>\n",
            " </form>\n",
            "</li>\n",
            "<li class=\"divider\">\n",
            "</li>\n",
            "<li>\n",
            " <a href=\"https://www.reclamos.cl/telecomunicaciones\">\n",
            "  Telecomunicaciones\n",
            " </a>\n",
            "</li>\n",
            "<li>\n",
            " <a href=\"https://www.reclamos.cl/retail\">\n",
            "  Retail\n",
            " </a>\n",
            "</li>\n",
            "<li>\n",
            " <a href=\"https://www.reclamos.cl/bancos\">\n",
            "  Bancos\n",
            " </a>\n",
            "</li>\n",
            "<li>\n",
            " <a href=\"https://www.reclamos.cl/salud\">\n",
            "  Salud\n",
            " </a>\n",
            "</li>\n",
            "<li>\n",
            " <a href=\"https://www.reclamos.cl/educacion\">\n",
            "  Educación\n",
            " </a>\n",
            "</li>\n",
            "<li>\n",
            " <a href=\"https://www.reclamos.cl/gobierno\">\n",
            "  Gobierno\n",
            " </a>\n",
            "</li>\n",
            "<li>\n",
            " <a href=\"https://www.reclamos.cl/servicios_basicos\">\n",
            "  Servicios\n",
            " </a>\n",
            "</li>\n",
            "<li>\n",
            " <a href=\"https://www.reclamos.cl/automotriz\">\n",
            "  Automotriz\n",
            " </a>\n",
            "</li>\n",
            "<li>\n",
            " <a href=\"https://www.reclamos.cl/construccion\">\n",
            "  Construcción\n",
            " </a>\n",
            "</li>\n",
            "<li>\n",
            " <a href=\"https://www.reclamos.cl/transportes\">\n",
            "  Transportes\n",
            " </a>\n",
            "</li>\n",
            "<!-- /.navbar-collapse -->\n",
            "<!-- header-container -->\n",
            "<!-- header -->\n",
            "<div id=\"header-compara\">\n",
            " <div id=\"header-compara-inner\">\n",
            "  <div class=\"row\" id=\"compara-info\">\n",
            "   <div class=\"evite col-xs-4 col-md-4\">\n",
            "    <div class=\"compara-marca-border\">\n",
            "     <div class=\"compara-llamado\">\n",
            "      <span aria-hidden=\"true\" class=\"glyphicon glyphicon-remove\">\n",
            "      </span>\n",
            "      Evite\n",
            "     </div>\n",
            "     <div class=\"compara-marca evite\">\n",
            "      <a href=\"https://www.reclamos.cl/empresa/banco_de_chile\">\n",
            "       Banco de Chile\n",
            "      </a>\n",
            "     </div>\n",
            "     Nota promedio: 1.5000\n",
            "    </div>\n",
            "   </div>\n",
            "   <div class=\"col-xs-4 col-md-4\">\n",
            "    <strong>\n",
            "     Por gestión de sus reclamos, evite y prefiera.\n",
            "    </strong>\n",
            "    <div class=\"description\">\n",
            "     Sugerencia basada en la experiencia de\n",
            "     <a href=\"https://www.reclamos.cl/compararesult/banca1\">\n",
            "      21 clientes de estas empresas\n",
            "     </a>\n",
            "     ,\n",
            "     <a href=\"https://www.reclamos.cl/node/316777\">\n",
            "      encuestados\n",
            "     </a>\n",
            "     por reclamos.cl tiempo después de publicar su reclamo.\n",
            "     <a href=\"https://www.reclamos.cl/compararesult\">\n",
            "      Ver más comparaciones\n",
            "     </a>\n",
            "     .\n",
            "    </div>\n",
            "    <div class=\"compara-share\">\n",
            "     <a class=\"scmFacebook\" href=\"http://www.facebook.com/sharer.php?u=https://www.reclamos.cl/compararesult/banca1\" title=\"Compartir en Facebook!\">\n",
            "      <img alt=\"Facebook\" src=\"https://www.reclamos.cl/themes/r3/facebook.png\"/>\n",
            "     </a>\n",
            "     <a class=\"scmTwitter\" href=\"http://twitter.com/home/?status=Evita+Banco+de+Chile%2C++prefiere+Banco+Santander+Chile%3A+https%3A%2F%2Fwww.reclamos.cl%2Fcompararesult%2Fbanca1\" title=\"Compartir en twitter!\">\n",
            "      <img alt=\"Twitter\" src=\"https://www.reclamos.cl/themes/r3/twitter.png\"/>\n",
            "     </a>\n",
            "    </div>\n",
            "   </div>\n",
            "   <div class=\"prefiera col-xs-4 col-md-4\">\n",
            "    <div class=\"compara-marca-border\">\n",
            "     <div class=\"compara-llamado\">\n",
            "      <span aria-hidden=\"true\" class=\"glyphicon glyphicon-ok\">\n",
            "      </span>\n",
            "      Prefiera\n",
            "     </div>\n",
            "     <div class=\"compara-marca prefiera\">\n",
            "      <a href=\"https://www.reclamos.cl/empresa/banco_santander\">\n",
            "       Banco Santander Chile\n",
            "      </a>\n",
            "     </div>\n",
            "     Nota promedio: 1.7273\n",
            "    </div>\n",
            "   </div>\n",
            "  </div>\n",
            " </div>\n",
            "</div>\n",
            "<!----------------- Google Adds -->\n",
            "<div class=\"row mobilee\" id=\"adwords-mobile\">\n",
            " <div class=\"col-md-12\" style=\"text-align:center;\">\n",
            "  <script async=\"\" src=\"//pagead2.googlesyndication.com/pagead/js/adsbygoogle.js\">\n",
            "  </script>\n",
            "  <!-- BannerMovilSuperior -->\n",
            "  <ins class=\"adsbygoogle\" data-ad-client=\"ca-pub-5713421040970064\" data-ad-slot=\"8810650833\" style=\"display:inline-block;width:320px;height:100px\">\n",
            "  </ins>\n",
            "  <script>\n",
            "   (adsbygoogle = window.adsbygoogle || []).push({});\n",
            "  </script>\n",
            " </div>\n",
            "</div>\n",
            "<!----------------- Google Adds -->\n",
            "<div id=\"wrapgeneral\">\n",
            " <div class=\"container\">\n",
            "  <div class=\"row\">\n",
            "   <div class=\"col-md-8\" id=\"main\">\n",
            "    <div class=\"breadcrumb\">\n",
            "     <a href=\"https://www.reclamos.cl/\">\n",
            "      Inicio\n",
            "     </a>\n",
            "     »\n",
            "     <a href=\"https://www.reclamos.cl/retail\">\n",
            "      -Retail\n",
            "     </a>\n",
            "     »\n",
            "     <a href=\"https://www.reclamos.cl/empresa/a3directo\">\n",
            "      A3Directo\n",
            "     </a>\n",
            "    </div>\n",
            "    <div typeof=\"v:Review\" xmlns:v=\"http://rdf.data-vocabulary.org/#\">\n",
            "     <h2 class=\"reclamo-subtitulo\">\n",
            "      <span aria-hidden=\"true\" class=\"glyphicon glyphicon-folder-open\">\n",
            "      </span>\n",
            "      <a href=\"https://www.reclamos.cl/empresa/a3directo\">\n",
            "       A3D Antena 3 Directo Chile\n",
            "      </a>\n",
            "     </h2>\n",
            "     <h1 class=\"reclamo-front-title dialogo\">\n",
            "      <span property=\"v:itemreviewed\">\n",
            "       A3d antena 3 directo chile\n",
            "      </span>\n",
            "      -\n",
            "      <span property=\"v:summary\">\n",
            "       Cobran mas de que anuncian\n",
            "      </span>\n",
            "     </h1>\n",
            "     <!----------------- Google Adds -->\n",
            "     <!----------------- Google Adds -->\n",
            "     <div class=\"node full \">\n",
            "      <div class=\"respuesta auth\" id=\"resp_135500\">\n",
            "       <div class=\"respuesta-info\">\n",
            "        <div class=\"nombre\">\n",
            "        </div>\n",
            "        <div class=\"inombre\">\n",
            "         Autor reclamo\n",
            "        </div>\n",
            "       </div>\n",
            "       <div class=\"respuesta-respuesta\">\n",
            "        <h2>\n",
            "         Ninguno\n",
            "        </h2>\n",
            "        <div class=\"date\">\n",
            "         1 Enero, 2018 - 12:14\n",
            "        </div>\n",
            "        <div class=\"content\">\n",
            "         La empresa aun no responde... Al consultar .la respuesta es.  \" solo debo esperar....\"\n",
            "         <br/>\n",
            "        </div>\n",
            "       </div>\n",
            "       <div class=\"clear\">\n",
            "       </div>\n",
            "      </div>\n",
            "      <div class=\"finalrespuestas\">\n",
            "       Reclamo original:\n",
            "      </div>\n",
            "      <div class=\"node-info\">\n",
            "       <span content=\"2017-12-16\" property=\"v:dtreviewed\">\n",
            "        Sábado 16, December 2017\n",
            "       </span>\n",
            "       , Número de Reclamo: 468473\n",
            "       <span class=\"rdf\" property=\"v:reviewer\">\n",
            "        Foro Reclamos.cl\n",
            "       </span>\n",
            "      </div>\n",
            "      <div class=\"node-content\">\n",
            "       <div id=\"reclamo-sidebar\">\n",
            "        <div class=\"reclamo-sidebar-inner\">\n",
            "         <div class=\"reclamo-sidebar-seccion\">\n",
            "          <div id=\"node-visitas\">\n",
            "           <div id=\"node-visitas-counter\">\n",
            "            <img src=\"/themes/r4/loading.gif\"/>\n",
            "           </div>\n",
            "           <div id=\"node-visitas-texto\">\n",
            "            .\n",
            "            <br>\n",
            "             Compartir\n",
            "            </br>\n",
            "           </div>\n",
            "          </div>\n",
            "          <div id=\"node-share\" style=\"text-align:center;\">\n",
            "           <a class=\"scmTwitter\" href=\"http://twitter.com/home/?status=a3d antena 3 directo chile  - cobran mas de que anuncian - https://www.reclamos.cl/node/468473\" title=\"Tweet this!\">\n",
            "            <img alt=\"Twitter\" src=\"/themes/r3/twitter.png\"/>\n",
            "           </a>\n",
            "           <a class=\"scmFacebook\" href=\"http://www.facebook.com/sharer.php?u=https://www.reclamos.cl/node/468473\" title=\"Share on Facebook!\">\n",
            "            <img alt=\"Facebook\" src=\"/themes/r3/facebook.png\"/>\n",
            "           </a>\n",
            "          </div>\n",
            "         </div>\n",
            "         <div class=\"reclamo-sidebar-seccion\">\n",
            "          <div id=\"node-contacto-autor\">\n",
            "           Contactar al autor\n",
            "          </div>\n",
            "          <div class=\"468473\" id=\"contacto-nid\" style=\"display:none;\">\n",
            "          </div>\n",
            "          <div class=\"3b4b38a54faa307\" id=\"contacto-code\" style=\"display:none;\">\n",
            "          </div>\n",
            "          <div id=\"node-contacto-autor-select\" style=\"display:none;\">\n",
            "          </div>\n",
            "          <div id=\"node-contactado-previamente\">\n",
            "          </div>\n",
            "         </div>\n",
            "        </div>\n",
            "       </div>\n",
            "       <span property=\"v:description\">\n",
            "        <p>\n",
            "         Compre una PEIN RUNNER PRO. COSTABA 28400...  Se pagaron de 29900... Un fraude... Llame .debo esperar la próxima semana ... Esta ahora publicada en internet... A 28400... Y dicen que yo vi mal  el precio....  Descarados . empresa poco honesta.... Ya caí en el engaño.... Ojala esto evite que otros usuarios sigan siendo  ********s ...\n",
            "        </p>\n",
            "       </span>\n",
            "       <div class=\"img-center\">\n",
            "       </div>\n",
            "       <!----------------- Google Adds -->\n",
            "       <br/>\n",
            "       <br/>\n",
            "       <br/>\n",
            "       <script async=\"\" src=\"//pagead2.googlesyndication.com/pagead/js/adsbygoogle.js\">\n",
            "       </script>\n",
            "       <!-- Cuadrado bajo reclamo -->\n",
            "       <ins class=\"adsbygoogle\" data-ad-client=\"ca-pub-5713421040970064\" data-ad-slot=\"8964070838\" style=\"display:inline-block;width:336px;height:280px\">\n",
            "       </ins>\n",
            "       <script>\n",
            "        (adsbygoogle = window.adsbygoogle || []).push({});\n",
            "       </script>\n",
            "       <div style=\"font-size:11px;font-style:italic;\">\n",
            "        Publicidad de Google Adwords\n",
            "       </div>\n",
            "       <!----------------- Google Adds -->\n",
            "       <div class=\"reclamo-meta-autor\">\n",
            "        Publicado por: IP 190.22.6.181 el Sábado, December 16, 2017 - 13:20. La persona que publicó este contenido se ha identificado internamente con su nombre, rut y otros datos aportados voluntariamente. Para tomar contacto con el autor considere las alternativas que se presentan a la derecha del contenido. Las opiniones publicadas por los usuarios del foro no reflejan necesariamente la opinión de los administradores de Reclamos.cl.\n",
            "       </div>\n",
            "       <span class=\"rdf\" property=\"v:rating\">\n",
            "        3\n",
            "       </span>\n",
            "      </div>\n",
            "      <div class=\"reclamos-comments\">\n",
            "       <fb:comments href=\"http://www.reclamos.cl/a3directo/reclamo/2017/dec/a3d_antena_3_directo_chile_cobran_mas_de_que_anuncian\" num_posts=\"7\" width=\"100%\">\n",
            "       </fb:comments>\n",
            "      </div>\n",
            "     </div>\n",
            "    </div>\n",
            "    <!-- Close rdf div -->\n",
            "   </div>\n",
            "   <!-- -->\n",
            "   <div class=\"col-md-4\" id=\"sidebar-left\">\n",
            "    <div id=\"publicar-reclamo\">\n",
            "     <a href=\"/node/add/reclamo\">\n",
            "      <span aria-hidden=\"true\" class=\"glyphicon glyphicon-pencil\">\n",
            "      </span>\n",
            "      Ingresar reclamo\n",
            "     </a>\n",
            "    </div>\n",
            "    <!----------------- Justicia Brava  -->\n",
            "    <a href=\"http://www.justiciabrava.com\">\n",
            "     <img src=\"/themes/r4/jbrava.jpg\" style=\"width:100%;height:inherit;margin-bottom:20px;opacity:0.8;filter: alpha(opacity=80);\"/>\n",
            "    </a>\n",
            "    <!----------------- Justicia Brava  -->\n",
            "    <!----------------- Google Adds -->\n",
            "    <script async=\"\" src=\"//pagead2.googlesyndication.com/pagead/js/adsbygoogle.js\">\n",
            "    </script>\n",
            "    <!-- SidebarReclamos -->\n",
            "    <ins class=\"adsbygoogle\" data-ad-client=\"ca-pub-5713421040970064\" data-ad-format=\"auto\" data-ad-slot=\"3196738836\" style=\"display:block\">\n",
            "    </ins>\n",
            "    <script>\n",
            "     (adsbygoogle = window.adsbygoogle || []).push({});\n",
            "    </script>\n",
            "    <div style=\"font-size:11px;font-style:italic;\">\n",
            "     Publicidad de Google Adwords\n",
            "    </div>\n",
            "    <!----------------- Google Adds -->\n",
            "    <div class=\"block\" id=\"block-elementos-3\">\n",
            "     <h2 class=\"title\">\n",
            "      Resumen A3Directo\n",
            "     </h2>\n",
            "     <div class=\"content\">\n",
            "      <ul class=\"categoria-tags\">\n",
            "       <li class=\"tag\">\n",
            "        <a href=\"https://www.reclamos.cl/a3directo/tags/a3directo_producto\">\n",
            "         A3Directo producto\n",
            "        </a>\n",
            "       </li>\n",
            "       <li class=\"tag\">\n",
            "        <a href=\"https://www.reclamos.cl/a3directo/tags/a3directo_publicidad\">\n",
            "         A3Directo publicidad\n",
            "        </a>\n",
            "       </li>\n",
            "       <li class=\"tag\">\n",
            "        <a href=\"https://www.reclamos.cl/a3directo/tags/a3directo_engaosa\">\n",
            "         A3Directo engaosa\n",
            "        </a>\n",
            "       </li>\n",
            "       <li class=\"tag\">\n",
            "        <a href=\"https://www.reclamos.cl/a3directo/tags/a3directo_dinero\">\n",
            "         A3Directo dinero\n",
            "        </a>\n",
            "       </li>\n",
            "       <li class=\"tag\">\n",
            "        <a href=\"https://www.reclamos.cl/a3directo/tags/a3directo_comprado\">\n",
            "         A3Directo comprado\n",
            "        </a>\n",
            "       </li>\n",
            "       <li class=\"tag\">\n",
            "        <a href=\"https://www.reclamos.cl/a3directo/tags/a3directo_devolucion\">\n",
            "         A3Directo devolucion\n",
            "        </a>\n",
            "       </li>\n",
            "       <li class=\"tag\">\n",
            "        <a href=\"https://www.reclamos.cl/a3directo/tags/a3directo_entrega\">\n",
            "         A3Directo entrega\n",
            "        </a>\n",
            "       </li>\n",
            "      </ul>\n",
            "     </div>\n",
            "    </div>\n",
            "    <div class=\"block\" id=\"block-elementos-1\">\n",
            "     <h2 class=\"title\">\n",
            "      Reclamos Relacionados\n",
            "     </h2>\n",
            "     <div class=\"content\">\n",
            "      <div class=\"view view-taxo-destacados-teaser\">\n",
            "       <div class=\"view-content view-content-taxo-destacados-teaser\">\n",
            "        <div class=\"node teaser \">\n",
            "         <div class=\"row\">\n",
            "          <div class=\"col-xs-2 col-md-2\">\n",
            "           <a href=\"https://www.reclamos.cl/a3directo/reclamo/2018/jan/a3d_chile_devoluci_n_de_dinero\" title=\"a3d chile - devolución de dinero\">\n",
            "            <img alt=\"a3d chile - devolución de dinero\" class=\"sinfoto\" src=\"/themes/r4/sin-foto-01.jpg\"/>\n",
            "           </a>\n",
            "          </div>\n",
            "          <div class=\"col-xs-10 col-md-10\">\n",
            "           <div class=\"reclamo-teaser-links\">\n",
            "            <a href=\"http://www.reclamos.cl/\">\n",
            "             <span aria-hidden=\"true\" class=\"glyphicon glyphicon-chevron-right\">\n",
            "             </span>\n",
            "             Leer más\n",
            "            </a>\n",
            "           </div>\n",
            "           <h4 class=\"reclamo-teaser-empresa\">\n",
            "            <a href=\"/a3directo/reclamo/2018/jan/a3d_chile_devoluci_n_de_dinero\" title=\"a3d chile\">\n",
            "             A3d chile\n",
            "            </a>\n",
            "            <span class=\"cantidad-visitas\">\n",
            "             2 lecturas\n",
            "            </span>\n",
            "           </h4>\n",
            "           <p class=\"reclamo-teaser-title\">\n",
            "            <a href=\"/a3directo/reclamo/2018/jan/a3d_chile_devoluci_n_de_dinero\" title=\"devolución de dinero\">\n",
            "             Devolución de dinero\n",
            "            </a>\n",
            "           </p>\n",
            "          </div>\n",
            "         </div>\n",
            "        </div>\n",
            "        <div class=\"node teaser \">\n",
            "         <div class=\"row\">\n",
            "          <div class=\"col-xs-2 col-md-2\">\n",
            "           <a href=\"https://www.reclamos.cl/a3directo/reclamo/2017/dec/antena_3_directo_devolucion_de_producto\" title=\"antena 3 directo - devolucion de producto\">\n",
            "            <img alt=\"antena 3 directo - devolucion de producto\" class=\"sinfoto\" src=\"/themes/r4/sin-foto-01.jpg\"/>\n",
            "           </a>\n",
            "          </div>\n",
            "          <div class=\"col-xs-10 col-md-10\">\n",
            "           <div class=\"reclamo-teaser-links\">\n",
            "            <a href=\"http://www.reclamos.cl/\">\n",
            "             <span aria-hidden=\"true\" class=\"glyphicon glyphicon-chevron-right\">\n",
            "             </span>\n",
            "             Leer más\n",
            "            </a>\n",
            "           </div>\n",
            "           <h4 class=\"reclamo-teaser-empresa\">\n",
            "            <a href=\"/a3directo/reclamo/2017/dec/antena_3_directo_devolucion_de_producto\" title=\"antena 3 directo\">\n",
            "             Antena 3 directo\n",
            "            </a>\n",
            "            <span class=\"cantidad-visitas\">\n",
            "             65 lecturas\n",
            "            </span>\n",
            "           </h4>\n",
            "           <p class=\"reclamo-teaser-title\">\n",
            "            <a href=\"/a3directo/reclamo/2017/dec/antena_3_directo_devolucion_de_producto\" title=\"devolucion de producto\">\n",
            "             Devolucion de producto\n",
            "            </a>\n",
            "           </p>\n",
            "          </div>\n",
            "         </div>\n",
            "        </div>\n",
            "        <div class=\"node teaser \">\n",
            "         <div class=\"row\">\n",
            "          <div class=\"col-xs-2 col-md-2\">\n",
            "           <a href=\"https://www.reclamos.cl/a3directo/reclamo/2017/dec/a3d_ineficiencia_de_servicio_al_cliente_y_producto_mal_estado\" title=\"a3d - ineficiencia de servicio al cliente y producto mal estado\">\n",
            "            <img alt=\"a3d - ineficiencia de servicio al cliente y producto mal estado\" class=\"sinfoto\" src=\"/themes/r4/sin-foto-01.jpg\"/>\n",
            "           </a>\n",
            "          </div>\n",
            "          <div class=\"col-xs-10 col-md-10\">\n",
            "           <div class=\"reclamo-teaser-links\">\n",
            "            <a href=\"http://www.reclamos.cl/\">\n",
            "             <span aria-hidden=\"true\" class=\"glyphicon glyphicon-chevron-right\">\n",
            "             </span>\n",
            "             Leer más\n",
            "            </a>\n",
            "           </div>\n",
            "           <h4 class=\"reclamo-teaser-empresa\">\n",
            "            <a href=\"/a3directo/reclamo/2017/dec/a3d_ineficiencia_de_servicio_al_cliente_y_producto_mal_estado\" title=\"a3d\">\n",
            "             A3d\n",
            "            </a>\n",
            "            <span class=\"cantidad-visitas\">\n",
            "             74 lecturas\n",
            "            </span>\n",
            "           </h4>\n",
            "           <p class=\"reclamo-teaser-title\">\n",
            "            <a href=\"/a3directo/reclamo/2017/dec/a3d_ineficiencia_de_servicio_al_cliente_y_producto_mal_estado\" title=\"ineficiencia de servicio al cliente y producto mal estado\">\n",
            "             Ineficiencia de servicio al cliente y producto mal estado\n",
            "            </a>\n",
            "           </p>\n",
            "          </div>\n",
            "         </div>\n",
            "        </div>\n",
            "        <div class=\"node teaser \">\n",
            "         <div class=\"row\">\n",
            "          <div class=\"col-xs-2 col-md-2\">\n",
            "           <a href=\"https://www.reclamos.cl/a3directo/reclamo/2017/dec/a3d_antena_3_directo_chile_cobran_mas_de_que_anuncian\" title=\"a3d antena 3 directo chile  - cobran mas de que anuncian\">\n",
            "            <img alt=\"a3d antena 3 directo chile  - cobran mas de que anuncian\" class=\"sinfoto\" src=\"/themes/r4/sin-foto-01.jpg\"/>\n",
            "           </a>\n",
            "          </div>\n",
            "          <div class=\"col-xs-10 col-md-10\">\n",
            "           <div class=\"reclamo-teaser-links\">\n",
            "            <a href=\"http://www.reclamos.cl/\">\n",
            "             <span aria-hidden=\"true\" class=\"glyphicon glyphicon-chevron-right\">\n",
            "             </span>\n",
            "             Leer más\n",
            "            </a>\n",
            "           </div>\n",
            "           <h4 class=\"reclamo-teaser-empresa\">\n",
            "            <a href=\"/a3directo/reclamo/2017/dec/a3d_antena_3_directo_chile_cobran_mas_de_que_anuncian\" title=\"a3d antena 3 directo chile \">\n",
            "             A3d antena 3 directo chile\n",
            "            </a>\n",
            "            <span class=\"cantidad-visitas\">\n",
            "             78 lecturas\n",
            "            </span>\n",
            "           </h4>\n",
            "           <p class=\"reclamo-teaser-title\">\n",
            "            <a href=\"/a3directo/reclamo/2017/dec/a3d_antena_3_directo_chile_cobran_mas_de_que_anuncian\" title=\"cobran mas de que anuncian\">\n",
            "             Cobran mas de que anuncian\n",
            "            </a>\n",
            "           </p>\n",
            "          </div>\n",
            "         </div>\n",
            "        </div>\n",
            "        <div class=\"node teaser \">\n",
            "         <div class=\"row\">\n",
            "          <div class=\"col-xs-2 col-md-2\">\n",
            "           <a href=\"https://www.reclamos.cl/a3directo/reclamo/2017/oct/antena_tres_directo_mala_gestion_de_envio\" title=\"antena tres directo - mala gestion de envio\">\n",
            "            <img alt=\"antena tres directo - mala gestion de envio\" class=\"sinfoto\" src=\"/themes/r4/sin-foto-01.jpg\"/>\n",
            "           </a>\n",
            "          </div>\n",
            "          <div class=\"col-xs-10 col-md-10\">\n",
            "           <div class=\"reclamo-teaser-links\">\n",
            "            <a href=\"http://www.reclamos.cl/\">\n",
            "             <span aria-hidden=\"true\" class=\"glyphicon glyphicon-chevron-right\">\n",
            "             </span>\n",
            "             Leer más\n",
            "            </a>\n",
            "           </div>\n",
            "           <h4 class=\"reclamo-teaser-empresa\">\n",
            "            <a href=\"/a3directo/reclamo/2017/oct/antena_tres_directo_mala_gestion_de_envio\" title=\"antena tres directo\">\n",
            "             Antena tres directo\n",
            "            </a>\n",
            "            <span class=\"cantidad-visitas\">\n",
            "             220 lecturas\n",
            "            </span>\n",
            "           </h4>\n",
            "           <p class=\"reclamo-teaser-title\">\n",
            "            <a href=\"/a3directo/reclamo/2017/oct/antena_tres_directo_mala_gestion_de_envio\" title=\"mala gestion de envio\">\n",
            "             Mala gestion de envio\n",
            "            </a>\n",
            "           </p>\n",
            "          </div>\n",
            "         </div>\n",
            "        </div>\n",
            "       </div>\n",
            "      </div>\n",
            "     </div>\n",
            "    </div>\n",
            "    <div class=\"block\" id=\"block-simplenews-newsletter-1970\">\n",
            "     <h2 class=\"title\">\n",
            "      Reclamos.cl newsletter\n",
            "     </h2>\n",
            "     <div class=\"content\">\n",
            "      <p>\n",
            "       Manténgase informado de reclamos frecuentes recibiendo alertas en su email.\n",
            "      </p>\n",
            "      <form accept-charset=\"UTF-8\" action=\"/a3directo/reclamo/2017/dec/a3d_antena_3_directo_chile_cobran_mas_de_que_anuncian\" id=\"simplenews-block-form\" method=\"post\">\n",
            "       <div>\n",
            "        <div class=\"form-item\">\n",
            "         <label for=\"edit-mail\">\n",
            "          Correo-e:\n",
            "          <span class=\"form-required\" title=\"Este campo es obligatorio.\">\n",
            "           *\n",
            "          </span>\n",
            "         </label>\n",
            "         <input class=\"form-text required\" id=\"edit-mail\" maxlength=\"128\" name=\"mail\" size=\"20\" type=\"text\" value=\"\"/>\n",
            "        </div>\n",
            "        <div class=\"form-radios\">\n",
            "         <div class=\"form-item\">\n",
            "          <label class=\"option\">\n",
            "           <input checked=\"checked\" class=\"form-radio\" name=\"action\" type=\"radio\" value=\"subscribe\"/>\n",
            "           Suscribirse\n",
            "          </label>\n",
            "         </div>\n",
            "         <div class=\"form-item\">\n",
            "          <label class=\"option\">\n",
            "           <input class=\"form-radio\" name=\"action\" type=\"radio\" value=\"unsubscribe\"/>\n",
            "           Desuscribirse\n",
            "          </label>\n",
            "         </div>\n",
            "        </div>\n",
            "        <input class=\"form-submit\" id=\"edit-submit\" name=\"op\" type=\"submit\" value=\"Publicar\"/>\n",
            "        <input id=\"edit-simplenews-block-form\" name=\"form_id\" type=\"hidden\" value=\"simplenews_block_form\"/>\n",
            "       </div>\n",
            "      </form>\n",
            "     </div>\n",
            "    </div>\n",
            "   </div>\n",
            "  </div>\n",
            "  <!-- Row -->\n",
            " </div>\n",
            " <!-- Container -->\n",
            "</div>\n",
            "<!-- wrappergeneral -->\n",
            "<div class=\"footer\">\n",
            " <div class=\"footer-inner row\">\n",
            "  <div class=\"col-md-4\">\n",
            "   <ul>\n",
            "    <li>\n",
            "     <a href=\"https://www.reclamos.cl/node/442368\">\n",
            "      Principios, Derechos y Deberes en la era Digital\n",
            "     </a>\n",
            "    </li>\n",
            "    <li>\n",
            "     <a href=\"http://www.reclamos.cl/terminos_y_condiciones\">\n",
            "      Términos y Condiciones de los servicios y Política de Privacidad\n",
            "     </a>\n",
            "    </li>\n",
            "   </ul>\n",
            "  </div>\n",
            "  <div class=\"col-md-4\">\n",
            "   Notificar abuso: abuso\n",
            "   <span>\n",
            "    <span>\n",
            "     <span>\n",
            "      <img alt=\"arroba\" src=\"https://www.reclamos.cl/arroba.png\"/>\n",
            "     </span>\n",
            "    </span>\n",
            "   </span>\n",
            "   reclamos.cl\n",
            "   <br/>\n",
            "   Contacto: admin\n",
            "   <span>\n",
            "    <span>\n",
            "     <span>\n",
            "      <img alt=\"arroba\" src=\"https://www.reclamos.cl/arroba.png\"/>\n",
            "     </span>\n",
            "    </span>\n",
            "   </span>\n",
            "   reclamos.cl\n",
            "   <br/>\n",
            "   <a class=\"btn btn-default\" href=\"/retiro\" style=\"color:#ffffff;background:#3fa9ca;border:1px solid #398faa; \">\n",
            "    Solicitar retiro de publicaciones\n",
            "   </a>\n",
            "   <br/>\n",
            "  </div>\n",
            "  <div class=\"col-md-4\">\n",
            "   2018 Reclamos.cl\n",
            "\t\t\tMiércoles, 03 de Enero, 2018\n",
            "  </div>\n",
            " </div>\n",
            "</div>\n",
            "<img class=\"loading\" height=\"0\" src=\"https://www.reclamos.cl/themes/r4/loading.gif\" width=\"0\"/>\n",
            "<!-- \n",
            "<div id=\"encuestan\">\n",
            "  <a href=\"http://www.proyectopais.org\" target=\"_blank\">Encuesta Nacional</a>\n",
            "</div>  \n",
            "-->\n",
            "<script type=\"text/javascript\">\n",
            " var _gaq = _gaq || [];\n",
            "  _gaq.push(['_setAccount', 'UA-283570-5']);\n",
            "  _gaq.push(['_trackPageview']);\n",
            "  setTimeout(\"_gaq.push(['_trackEvent', '10_seconds', 'read'])\", 10000);\n",
            "\n",
            "  (function() {\n",
            "    var ga = document.createElement('script'); ga.type = 'text/javascript'; ga.async = true;\n",
            "    // ga.src = ('https:' == document.location.protocol ? 'https://ssl' : 'http://www') + '.google-analytics.com/ga.js';\n",
            "    ga.src = ('https:' == document.location.protocol ? 'https://' : 'http://') + 'stats.g.doubleclick.net/dc.js';\n",
            "    var s = document.getElementsByTagName('script')[0]; s.parentNode.insertBefore(ga, s);\n",
            "  })();\n",
            "</script>\n",
            "\n"
          ],
          "name": "stdout"
        }
      ]
    },
    {
      "metadata": {
        "id": "8DQpp0dCxH5_",
        "colab_type": "text"
      },
      "source": [
        "# Item Reviewed"
      ],
      "cell_type": "markdown"
    },
    {
      "metadata": {
        "id": "q3IqzT6CvB8V",
        "colab_type": "code",
        "colab": {
          "autoexec": {
            "startup": false,
            "wait_interval": 0
          },
          "output_extras": [
            {
              "item_id": 1
            }
          ],
          "base_uri": "https://localhost:8080/",
          "height": 34
        },
        "outputId": "f2efd746-d991-447c-82bf-ebaadf0a27cf",
        "executionInfo": {
          "status": "ok",
          "timestamp": 1515032541038,
          "user_tz": 180,
          "elapsed": 726,
          "user": {
            "displayName": "Diego Valenzuela",
            "photoUrl": "//lh6.googleusercontent.com/-yC1S3sINJo8/AAAAAAAAAAI/AAAAAAAAAWQ/KjmnqiX4R_0/s50-c-k-no/photo.jpg",
            "userId": "105237571791367820180"
          }
        }
      },
      "source": [
        "soup.find('span', {'property':'v:itemreviewed'}).text\n"
      ],
      "cell_type": "code",
      "execution_count": 234,
      "outputs": [
        {
          "output_type": "execute_result",
          "data": {
            "text/plain": [
              "'A3d antena 3 directo chile '"
            ]
          },
          "metadata": {
            "tags": []
          },
          "execution_count": 234
        }
      ]
    },
    {
      "metadata": {
        "id": "TaEalHdZxLlz",
        "colab_type": "text"
      },
      "source": [
        "# Summary"
      ],
      "cell_type": "markdown"
    },
    {
      "metadata": {
        "id": "t4jOSQjhvB-k",
        "colab_type": "code",
        "colab": {
          "autoexec": {
            "startup": false,
            "wait_interval": 0
          },
          "output_extras": [
            {
              "item_id": 1
            }
          ],
          "base_uri": "https://localhost:8080/",
          "height": 34
        },
        "outputId": "f8202a45-9f69-4404-b900-02e8064a7fdd",
        "executionInfo": {
          "status": "ok",
          "timestamp": 1515032541758,
          "user_tz": 180,
          "elapsed": 596,
          "user": {
            "displayName": "Diego Valenzuela",
            "photoUrl": "//lh6.googleusercontent.com/-yC1S3sINJo8/AAAAAAAAAAI/AAAAAAAAAWQ/KjmnqiX4R_0/s50-c-k-no/photo.jpg",
            "userId": "105237571791367820180"
          }
        }
      },
      "source": [
        "soup.find('span', {'property':'v:summary'}).text"
      ],
      "cell_type": "code",
      "execution_count": 235,
      "outputs": [
        {
          "output_type": "execute_result",
          "data": {
            "text/plain": [
              "'Cobran mas de que anuncian'"
            ]
          },
          "metadata": {
            "tags": []
          },
          "execution_count": 235
        }
      ]
    },
    {
      "metadata": {
        "id": "X-TJ1XNdxOeK",
        "colab_type": "text"
      },
      "source": [
        "# Date\n",
        "No está relacionada con la fecha del Reclamo original (ver pagina!)"
      ],
      "cell_type": "markdown"
    },
    {
      "metadata": {
        "id": "y0umiC1RtKKm",
        "colab_type": "code",
        "colab": {
          "autoexec": {
            "startup": false,
            "wait_interval": 0
          },
          "output_extras": [
            {
              "item_id": 1
            }
          ],
          "base_uri": "https://localhost:8080/",
          "height": 34
        },
        "outputId": "f28cba5f-7f4f-499a-8885-cc5d61b037fb",
        "executionInfo": {
          "status": "ok",
          "timestamp": 1515032542533,
          "user_tz": 180,
          "elapsed": 650,
          "user": {
            "displayName": "Diego Valenzuela",
            "photoUrl": "//lh6.googleusercontent.com/-yC1S3sINJo8/AAAAAAAAAAI/AAAAAAAAAWQ/KjmnqiX4R_0/s50-c-k-no/photo.jpg",
            "userId": "105237571791367820180"
          }
        }
      },
      "source": [
        "soup.find(\"div\", {\"class\": \"date\"}).text\n",
        "# Parece que esta es la fecha del estado actual"
      ],
      "cell_type": "code",
      "execution_count": 236,
      "outputs": [
        {
          "output_type": "execute_result",
          "data": {
            "text/plain": [
              "'\\r\\n      1 Enero, 2018 - 12:14    '"
            ]
          },
          "metadata": {
            "tags": []
          },
          "execution_count": 236
        }
      ]
    },
    {
      "metadata": {
        "id": "RTP8EOSNxjiE",
        "colab_type": "text"
      },
      "source": [
        "# Content"
      ],
      "cell_type": "markdown"
    },
    {
      "metadata": {
        "id": "t1HiDKl4wl_y",
        "colab_type": "code",
        "colab": {
          "autoexec": {
            "startup": false,
            "wait_interval": 0
          },
          "output_extras": [
            {
              "item_id": 1
            }
          ],
          "base_uri": "https://localhost:8080/",
          "height": 34
        },
        "outputId": "245e915b-6f69-414e-c817-0f319891a0aa",
        "executionInfo": {
          "status": "ok",
          "timestamp": 1515032543400,
          "user_tz": 180,
          "elapsed": 685,
          "user": {
            "displayName": "Diego Valenzuela",
            "photoUrl": "//lh6.googleusercontent.com/-yC1S3sINJo8/AAAAAAAAAAI/AAAAAAAAAWQ/KjmnqiX4R_0/s50-c-k-no/photo.jpg",
            "userId": "105237571791367820180"
          }
        }
      },
      "source": [
        "soup.find(\"div\", {\"class\": \"content\"}).text\n",
        "# Parece que este es el estado actual "
      ],
      "cell_type": "code",
      "execution_count": 237,
      "outputs": [
        {
          "output_type": "execute_result",
          "data": {
            "text/plain": [
              "'\\r\\n      La empresa aun no responde... Al consultar .la respuesta es.  \" solo debo esperar....\"\\r '"
            ]
          },
          "metadata": {
            "tags": []
          },
          "execution_count": 237
        }
      ]
    },
    {
      "metadata": {
        "id": "N57vXFrBzD5W",
        "colab_type": "text"
      },
      "source": [
        "# Reclamo Original"
      ],
      "cell_type": "markdown"
    },
    {
      "metadata": {
        "id": "L0-Xs3bZyg6l",
        "colab_type": "code",
        "colab": {
          "autoexec": {
            "startup": false,
            "wait_interval": 0
          },
          "output_extras": [
            {
              "item_id": 1
            }
          ],
          "base_uri": "https://localhost:8080/",
          "height": 34
        },
        "outputId": "16c63915-4308-4066-aa6a-289e0b6a4031",
        "executionInfo": {
          "status": "ok",
          "timestamp": 1515032544341,
          "user_tz": 180,
          "elapsed": 676,
          "user": {
            "displayName": "Diego Valenzuela",
            "photoUrl": "//lh6.googleusercontent.com/-yC1S3sINJo8/AAAAAAAAAAI/AAAAAAAAAWQ/KjmnqiX4R_0/s50-c-k-no/photo.jpg",
            "userId": "105237571791367820180"
          }
        }
      },
      "source": [
        "soup.find(\"div\", {\"class\": \"finalrespuestas\"}).text\n",
        "## Que será esta wea ?? \n"
      ],
      "cell_type": "code",
      "execution_count": 238,
      "outputs": [
        {
          "output_type": "execute_result",
          "data": {
            "text/plain": [
              "'Reclamo original:'"
            ]
          },
          "metadata": {
            "tags": []
          },
          "execution_count": 238
        }
      ]
    },
    {
      "metadata": {
        "id": "lMSPUUsAzG1K",
        "colab_type": "text"
      },
      "source": [
        "# Fecha Reclamo Original"
      ],
      "cell_type": "markdown"
    },
    {
      "metadata": {
        "id": "MvndmH8hyhJh",
        "colab_type": "code",
        "colab": {
          "autoexec": {
            "startup": false,
            "wait_interval": 0
          },
          "output_extras": [
            {
              "item_id": 1
            }
          ],
          "base_uri": "https://localhost:8080/",
          "height": 34
        },
        "outputId": "be79c315-ad5c-41b0-edff-9953c09486ff",
        "executionInfo": {
          "status": "ok",
          "timestamp": 1515032545229,
          "user_tz": 180,
          "elapsed": 613,
          "user": {
            "displayName": "Diego Valenzuela",
            "photoUrl": "//lh6.googleusercontent.com/-yC1S3sINJo8/AAAAAAAAAAI/AAAAAAAAAWQ/KjmnqiX4R_0/s50-c-k-no/photo.jpg",
            "userId": "105237571791367820180"
          }
        }
      },
      "source": [
        "# Fecha reclamo original\n",
        "# <span content=\"2017-12-16\" property=\"v:dtreviewed\">\n",
        "\n",
        "soup.find(\"span\", {\"property\": \"v:dtreviewed\"}).text"
      ],
      "cell_type": "code",
      "execution_count": 239,
      "outputs": [
        {
          "output_type": "execute_result",
          "data": {
            "text/plain": [
              "'Sábado 16, December 2017'"
            ]
          },
          "metadata": {
            "tags": []
          },
          "execution_count": 239
        }
      ]
    },
    {
      "metadata": {
        "id": "1nwEfbWNzr49",
        "colab_type": "text"
      },
      "source": [
        "# Reviewer"
      ],
      "cell_type": "markdown"
    },
    {
      "metadata": {
        "id": "JEVQjJ_KxaJs",
        "colab_type": "code",
        "colab": {
          "autoexec": {
            "startup": false,
            "wait_interval": 0
          },
          "output_extras": [
            {
              "item_id": 1
            }
          ],
          "base_uri": "https://localhost:8080/",
          "height": 34
        },
        "outputId": "6f7b4bc6-adae-4aef-ae0b-a433af9319a0",
        "executionInfo": {
          "status": "ok",
          "timestamp": 1515032545931,
          "user_tz": 180,
          "elapsed": 600,
          "user": {
            "displayName": "Diego Valenzuela",
            "photoUrl": "//lh6.googleusercontent.com/-yC1S3sINJo8/AAAAAAAAAAI/AAAAAAAAAWQ/KjmnqiX4R_0/s50-c-k-no/photo.jpg",
            "userId": "105237571791367820180"
          }
        }
      },
      "source": [
        "soup.find('span', {'property':\"v:reviewer\"}).text\n",
        "## Esto será util ?? \n",
        "\n",
        "## Posiblemente las empresas tienen la oportunidad de responder (?), en ese caso, podriamos ver qué empresas responden a sus clientes (?)"
      ],
      "cell_type": "code",
      "execution_count": 240,
      "outputs": [
        {
          "output_type": "execute_result",
          "data": {
            "text/plain": [
              "'Foro Reclamos.cl'"
            ]
          },
          "metadata": {
            "tags": []
          },
          "execution_count": 240
        }
      ]
    },
    {
      "metadata": {
        "id": "Kb9LDU9C0Ckq",
        "colab_type": "text"
      },
      "source": [
        "# RECLAMO !!"
      ],
      "cell_type": "markdown"
    },
    {
      "metadata": {
        "id": "Plifxh7Dza4w",
        "colab_type": "code",
        "colab": {
          "autoexec": {
            "startup": false,
            "wait_interval": 0
          },
          "output_extras": [
            {
              "item_id": 1
            }
          ],
          "base_uri": "https://localhost:8080/",
          "height": 54
        },
        "outputId": "81ba63e3-7de4-429d-b809-07a7d12c5e75",
        "executionInfo": {
          "status": "ok",
          "timestamp": 1515032546681,
          "user_tz": 180,
          "elapsed": 645,
          "user": {
            "displayName": "Diego Valenzuela",
            "photoUrl": "//lh6.googleusercontent.com/-yC1S3sINJo8/AAAAAAAAAAI/AAAAAAAAAWQ/KjmnqiX4R_0/s50-c-k-no/photo.jpg",
            "userId": "105237571791367820180"
          }
        }
      },
      "source": [
        "soup.find('span', {'property':\"v:description\"}).text"
      ],
      "cell_type": "code",
      "execution_count": 241,
      "outputs": [
        {
          "output_type": "execute_result",
          "data": {
            "text/plain": [
              "'\\nCompre una PEIN RUNNER PRO. COSTABA 28400...  Se pagaron de 29900... Un fraude... Llame .debo esperar la próxima semana ... Esta ahora publicada en internet... A 28400... Y dicen que yo vi mal  el precio....  Descarados . empresa poco honesta.... Ya caí en el engaño.... Ojala esto evite que otros usuarios sigan siendo  ********s ... '"
            ]
          },
          "metadata": {
            "tags": []
          },
          "execution_count": 241
        }
      ]
    },
    {
      "metadata": {
        "id": "LI4_w32c0Xpm",
        "colab_type": "text"
      },
      "source": [
        "# IP Autor"
      ],
      "cell_type": "markdown"
    },
    {
      "metadata": {
        "id": "NFmzqzbu0A_x",
        "colab_type": "code",
        "colab": {
          "autoexec": {
            "startup": false,
            "wait_interval": 0
          },
          "output_extras": [
            {
              "item_id": 1
            }
          ],
          "base_uri": "https://localhost:8080/",
          "height": 54
        },
        "outputId": "16dbcf7f-e53d-471a-e4d3-75f8cdb8712b",
        "executionInfo": {
          "status": "ok",
          "timestamp": 1515032547433,
          "user_tz": 180,
          "elapsed": 591,
          "user": {
            "displayName": "Diego Valenzuela",
            "photoUrl": "//lh6.googleusercontent.com/-yC1S3sINJo8/AAAAAAAAAAI/AAAAAAAAAWQ/KjmnqiX4R_0/s50-c-k-no/photo.jpg",
            "userId": "105237571791367820180"
          }
        }
      },
      "source": [
        "soup.find('div', {'class':\"reclamo-meta-autor\"}).text"
      ],
      "cell_type": "code",
      "execution_count": 242,
      "outputs": [
        {
          "output_type": "execute_result",
          "data": {
            "text/plain": [
              "'Publicado por: IP 190.22.6.181 el Sábado, December 16, 2017 - 13:20. La persona que publicó este contenido se ha identificado internamente con su nombre, rut y otros datos aportados voluntariamente. Para tomar contacto con el autor considere las alternativas que se presentan a la derecha del contenido. Las opiniones publicadas por los usuarios del foro no reflejan necesariamente la opinión de los administradores de Reclamos.cl.'"
            ]
          },
          "metadata": {
            "tags": []
          },
          "execution_count": 242
        }
      ]
    },
    {
      "metadata": {
        "id": "DncrKlOC0hYU",
        "colab_type": "code",
        "colab": {
          "autoexec": {
            "startup": false,
            "wait_interval": 0
          },
          "output_extras": [
            {
              "item_id": 1
            }
          ],
          "base_uri": "https://localhost:8080/",
          "height": 34
        },
        "outputId": "bc5edc26-f204-4d11-e3b4-97a43a2368b1",
        "executionInfo": {
          "status": "ok",
          "timestamp": 1515032548291,
          "user_tz": 180,
          "elapsed": 694,
          "user": {
            "displayName": "Diego Valenzuela",
            "photoUrl": "//lh6.googleusercontent.com/-yC1S3sINJo8/AAAAAAAAAAI/AAAAAAAAAWQ/KjmnqiX4R_0/s50-c-k-no/photo.jpg",
            "userId": "105237571791367820180"
          }
        }
      },
      "source": [
        "import re\n",
        "\n",
        "s = soup.find('div', {'class':\"reclamo-meta-autor\"}).text\n",
        "\n",
        "ip = re.findall( r'[0-9]+(?:\\.[0-9]+){3}', s )\n",
        "\n",
        "print(ip)"
      ],
      "cell_type": "code",
      "execution_count": 243,
      "outputs": [
        {
          "output_type": "stream",
          "text": [
            "['190.22.6.181']\n"
          ],
          "name": "stdout"
        }
      ]
    },
    {
      "metadata": {
        "id": "A6WLAtLN1NEP",
        "colab_type": "text"
      },
      "source": [
        "# NI IDEA QUE ES"
      ],
      "cell_type": "markdown"
    },
    {
      "metadata": {
        "id": "ai2z4xoy0jMq",
        "colab_type": "code",
        "colab": {
          "autoexec": {
            "startup": false,
            "wait_interval": 0
          },
          "output_extras": [
            {
              "item_id": 1
            }
          ],
          "base_uri": "https://localhost:8080/",
          "height": 34
        },
        "outputId": "f094283b-f0a7-4c1a-9d99-fd0168752382",
        "executionInfo": {
          "status": "ok",
          "timestamp": 1515032549127,
          "user_tz": 180,
          "elapsed": 755,
          "user": {
            "displayName": "Diego Valenzuela",
            "photoUrl": "//lh6.googleusercontent.com/-yC1S3sINJo8/AAAAAAAAAAI/AAAAAAAAAWQ/KjmnqiX4R_0/s50-c-k-no/photo.jpg",
            "userId": "105237571791367820180"
          }
        }
      },
      "source": [
        "soup.find('span', {'property':\"v:rating\"}).text\n",
        "# <span class=\"rdf\" property=\"v:rating\">"
      ],
      "cell_type": "code",
      "execution_count": 244,
      "outputs": [
        {
          "output_type": "execute_result",
          "data": {
            "text/plain": [
              "'3'"
            ]
          },
          "metadata": {
            "tags": []
          },
          "execution_count": 244
        }
      ]
    },
    {
      "metadata": {
        "id": "l5c6YAtD1Vof",
        "colab_type": "code",
        "colab": {
          "autoexec": {
            "startup": false,
            "wait_interval": 0
          },
          "output_extras": [
            {
              "item_id": 1
            }
          ],
          "base_uri": "https://localhost:8080/",
          "height": 52
        },
        "outputId": "83b570b2-23c9-4d7a-c84e-afa555358ad3",
        "executionInfo": {
          "status": "ok",
          "timestamp": 1515032549955,
          "user_tz": 180,
          "elapsed": 737,
          "user": {
            "displayName": "Diego Valenzuela",
            "photoUrl": "//lh6.googleusercontent.com/-yC1S3sINJo8/AAAAAAAAAAI/AAAAAAAAAWQ/KjmnqiX4R_0/s50-c-k-no/photo.jpg",
            "userId": "105237571791367820180"
          }
        }
      },
      "source": [
        "soup.find('div', {'class':\"reclamos-comments\"})\n",
        "# <div class=\"reclamos-comments\">\n",
        "\n",
        "## PARA EXTRAER LOS COMENTARIOS DE FB PARECE QUE SE NECESITA UNA API\n",
        "## (hasta aqui nomas parece que se puede llegar con BS$)\n",
        "\n",
        "## Quizas este puro parámetro ya es util num_posts=\"7\""
      ],
      "cell_type": "code",
      "execution_count": 245,
      "outputs": [
        {
          "output_type": "execute_result",
          "data": {
            "text/plain": [
              "<div class=\"reclamos-comments\">\n",
              "<fb:comments href=\"http://www.reclamos.cl/a3directo/reclamo/2017/dec/a3d_antena_3_directo_chile_cobran_mas_de_que_anuncian\" num_posts=\"7\" width=\"100%\"></fb:comments> </div>"
            ]
          },
          "metadata": {
            "tags": []
          },
          "execution_count": 245
        }
      ]
    },
    {
      "metadata": {
        "id": "Q-EzS-3N375T",
        "colab_type": "text"
      },
      "source": [
        "# Cantidad de Visitas"
      ],
      "cell_type": "markdown"
    },
    {
      "metadata": {
        "id": "02jcEv8u1glU",
        "colab_type": "code",
        "colab": {
          "autoexec": {
            "startup": false,
            "wait_interval": 0
          },
          "output_extras": [
            {
              "item_id": 1
            }
          ],
          "base_uri": "https://localhost:8080/",
          "height": 34
        },
        "outputId": "0f2a8da5-7a74-4d8a-f291-3909c9c5d897",
        "executionInfo": {
          "status": "ok",
          "timestamp": 1515032550795,
          "user_tz": 180,
          "elapsed": 663,
          "user": {
            "displayName": "Diego Valenzuela",
            "photoUrl": "//lh6.googleusercontent.com/-yC1S3sINJo8/AAAAAAAAAAI/AAAAAAAAAWQ/KjmnqiX4R_0/s50-c-k-no/photo.jpg",
            "userId": "105237571791367820180"
          }
        }
      },
      "source": [
        "soup.find('span', {'class':\"cantidad-visitas\"}).text"
      ],
      "cell_type": "code",
      "execution_count": 246,
      "outputs": [
        {
          "output_type": "execute_result",
          "data": {
            "text/plain": [
              "'2 lecturas'"
            ]
          },
          "metadata": {
            "tags": []
          },
          "execution_count": 246
        }
      ]
    },
    {
      "metadata": {
        "id": "SOnBwbw7-fTv",
        "colab_type": "code",
        "colab": {
          "autoexec": {
            "startup": false,
            "wait_interval": 0
          }
        }
      },
      "source": [
        ""
      ],
      "cell_type": "code",
      "execution_count": 0,
      "outputs": []
    }
  ]
}